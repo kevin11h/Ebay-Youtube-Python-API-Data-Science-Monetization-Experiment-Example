{
 "cells": [
  {
   "cell_type": "markdown",
   "metadata": {},
   "source": [
    "## 7. Produce API affliate link text ads purchase example proof of concept + Key Word Extraction Amazon API Products Matching\n",
    "\n",
    "+ https://python-amazon-product-api.readthedocs.io/en/latest/basic-usage.html\n",
    "+ https://www.freecodecamp.org/news/how-to-extract-keywords-from-text-with-tf-idf-and-pythons-scikit-learn-b2a0f3d7e667/"
   ]
  },
  {
   "cell_type": "markdown",
   "metadata": {},
   "source": [
    "### Sort Find Figure Out Patterns in Average Mean Term Cost And Top Twenty 20% Pareto Vital Few Faith"
   ]
  },
  {
   "cell_type": "code",
   "execution_count": 150,
   "metadata": {},
   "outputs": [
    {
     "data": {
      "text/html": [
       "<div>\n",
       "<style scoped>\n",
       "    .dataframe tbody tr th:only-of-type {\n",
       "        vertical-align: middle;\n",
       "    }\n",
       "\n",
       "    .dataframe tbody tr th {\n",
       "        vertical-align: top;\n",
       "    }\n",
       "\n",
       "    .dataframe thead th {\n",
       "        text-align: right;\n",
       "    }\n",
       "</style>\n",
       "<table border=\"1\" class=\"dataframe\">\n",
       "  <thead>\n",
       "    <tr style=\"text-align: right;\">\n",
       "      <th></th>\n",
       "      <th>Unnamed: 0</th>\n",
       "      <th>TERM</th>\n",
       "      <th>COST</th>\n",
       "      <th>MEAN</th>\n",
       "    </tr>\n",
       "  </thead>\n",
       "  <tbody>\n",
       "    <tr>\n",
       "      <th>2470</th>\n",
       "      <td>2470</td>\n",
       "      <td>independent</td>\n",
       "      <td>['$595000.0', '$3875000.0']</td>\n",
       "      <td>2.235000e+06</td>\n",
       "    </tr>\n",
       "    <tr>\n",
       "      <th>1739</th>\n",
       "      <td>1739</td>\n",
       "      <td>expensive</td>\n",
       "      <td>1000000.0</td>\n",
       "      <td>1.000000e+06</td>\n",
       "    </tr>\n",
       "    <tr>\n",
       "      <th>2942</th>\n",
       "      <td>2942</td>\n",
       "      <td>manufacturing</td>\n",
       "      <td>500000.0</td>\n",
       "      <td>5.000000e+05</td>\n",
       "    </tr>\n",
       "    <tr>\n",
       "      <th>2639</th>\n",
       "      <td>2639</td>\n",
       "      <td>jumped</td>\n",
       "      <td>$198000.0</td>\n",
       "      <td>1.980000e+05</td>\n",
       "    </tr>\n",
       "    <tr>\n",
       "      <th>397</th>\n",
       "      <td>397</td>\n",
       "      <td>batching</td>\n",
       "      <td>95000.0</td>\n",
       "      <td>9.500000e+04</td>\n",
       "    </tr>\n",
       "    <tr>\n",
       "      <th>451</th>\n",
       "      <td>451</td>\n",
       "      <td>bethe</td>\n",
       "      <td>['$32.0', '$23742.0', '$51700.0', '$206800.0']</td>\n",
       "      <td>7.056850e+04</td>\n",
       "    </tr>\n",
       "    <tr>\n",
       "      <th>4141</th>\n",
       "      <td>4141</td>\n",
       "      <td>safest</td>\n",
       "      <td>['$4.0', '$10.0', '$20.0', '$200.0', '$300000.0']</td>\n",
       "      <td>6.004680e+04</td>\n",
       "    </tr>\n",
       "    <tr>\n",
       "      <th>4900</th>\n",
       "      <td>4900</td>\n",
       "      <td>throughput</td>\n",
       "      <td>45000.0</td>\n",
       "      <td>4.500000e+04</td>\n",
       "    </tr>\n",
       "    <tr>\n",
       "      <th>135</th>\n",
       "      <td>135</td>\n",
       "      <td>airplane</td>\n",
       "      <td>40200.0</td>\n",
       "      <td>4.020000e+04</td>\n",
       "    </tr>\n",
       "    <tr>\n",
       "      <th>1855</th>\n",
       "      <td>1855</td>\n",
       "      <td>fiat</td>\n",
       "      <td>28888.88</td>\n",
       "      <td>2.888888e+04</td>\n",
       "    </tr>\n",
       "    <tr>\n",
       "      <th>5140</th>\n",
       "      <td>5140</td>\n",
       "      <td>up</td>\n",
       "      <td>['$0.27', '$5.0', '$20.04', '$5000.0', '$74990...</td>\n",
       "      <td>2.666755e+04</td>\n",
       "    </tr>\n",
       "    <tr>\n",
       "      <th>3844</th>\n",
       "      <td>3844</td>\n",
       "      <td>racist</td>\n",
       "      <td>['$156.0', '$48000.0']</td>\n",
       "      <td>2.407800e+04</td>\n",
       "    </tr>\n",
       "    <tr>\n",
       "      <th>1649</th>\n",
       "      <td>1649</td>\n",
       "      <td>episode</td>\n",
       "      <td>['$1.5', '$3.0', '$5.0', '$7.0', '$15.0', '$15...</td>\n",
       "      <td>1.965206e+04</td>\n",
       "    </tr>\n",
       "    <tr>\n",
       "      <th>133</th>\n",
       "      <td>133</td>\n",
       "      <td>aircraft</td>\n",
       "      <td>14300.0</td>\n",
       "      <td>1.430000e+04</td>\n",
       "    </tr>\n",
       "    <tr>\n",
       "      <th>4889</th>\n",
       "      <td>4889</td>\n",
       "      <td>thousands</td>\n",
       "      <td>['$3120.0', '$25000.0']</td>\n",
       "      <td>1.406000e+04</td>\n",
       "    </tr>\n",
       "    <tr>\n",
       "      <th>5173</th>\n",
       "      <td>5173</td>\n",
       "      <td>v</td>\n",
       "      <td>['$25.0', '$27770.0']</td>\n",
       "      <td>1.389750e+04</td>\n",
       "    </tr>\n",
       "    <tr>\n",
       "      <th>5082</th>\n",
       "      <td>5082</td>\n",
       "      <td>um</td>\n",
       "      <td>['$1.0', '$1.0', '$1.0', '$1.0', '$2.0', '$2.0...</td>\n",
       "      <td>1.371781e+04</td>\n",
       "    </tr>\n",
       "    <tr>\n",
       "      <th>2212</th>\n",
       "      <td>2212</td>\n",
       "      <td>halving</td>\n",
       "      <td>12950.0</td>\n",
       "      <td>1.295000e+04</td>\n",
       "    </tr>\n",
       "    <tr>\n",
       "      <th>5418</th>\n",
       "      <td>5418</td>\n",
       "      <td>ye</td>\n",
       "      <td>['$2.5', '$24995.0']</td>\n",
       "      <td>1.249875e+04</td>\n",
       "    </tr>\n",
       "    <tr>\n",
       "      <th>606</th>\n",
       "      <td>606</td>\n",
       "      <td>build</td>\n",
       "      <td>['$1.0', '$1.28', '$2.0', '$8.0', '$12.0', '$1...</td>\n",
       "      <td>1.170481e+04</td>\n",
       "    </tr>\n",
       "    <tr>\n",
       "      <th>710</th>\n",
       "      <td>710</td>\n",
       "      <td>categorize</td>\n",
       "      <td>8200.0</td>\n",
       "      <td>8.200000e+03</td>\n",
       "    </tr>\n",
       "    <tr>\n",
       "      <th>1377</th>\n",
       "      <td>1377</td>\n",
       "      <td>discovery</td>\n",
       "      <td>['$52.0', '$52.0', '$52.0', '$58.0', '$59.0', ...</td>\n",
       "      <td>7.883125e+03</td>\n",
       "    </tr>\n",
       "    <tr>\n",
       "      <th>5227</th>\n",
       "      <td>5227</td>\n",
       "      <td>visualization</td>\n",
       "      <td>['$7.0', '$5000.0', '$10000.0']</td>\n",
       "      <td>5.002333e+03</td>\n",
       "    </tr>\n",
       "    <tr>\n",
       "      <th>5061</th>\n",
       "      <td>5061</td>\n",
       "      <td>turns</td>\n",
       "      <td>['$4999.0', '$4999.0', '$5000.0', '$5000.0', '...</td>\n",
       "      <td>4.999600e+03</td>\n",
       "    </tr>\n",
       "    <tr>\n",
       "      <th>1887</th>\n",
       "      <td>1887</td>\n",
       "      <td>finished</td>\n",
       "      <td>['$1.0', '$1.0', '$1.0', '$2.0', '$2.0', '$3.0...</td>\n",
       "      <td>4.986375e+03</td>\n",
       "    </tr>\n",
       "    <tr>\n",
       "      <th>3554</th>\n",
       "      <td>3554</td>\n",
       "      <td>pivot</td>\n",
       "      <td>4900.0</td>\n",
       "      <td>4.900000e+03</td>\n",
       "    </tr>\n",
       "    <tr>\n",
       "      <th>1253</th>\n",
       "      <td>1253</td>\n",
       "      <td>degrees</td>\n",
       "      <td>['$1.0', '$4.0', '$4.0', '$5.0', '$5.0', '$6.0...</td>\n",
       "      <td>4.605045e+03</td>\n",
       "    </tr>\n",
       "    <tr>\n",
       "      <th>1648</th>\n",
       "      <td>1648</td>\n",
       "      <td>envision</td>\n",
       "      <td>4550.0</td>\n",
       "      <td>4.550000e+03</td>\n",
       "    </tr>\n",
       "    <tr>\n",
       "      <th>1671</th>\n",
       "      <td>1671</td>\n",
       "      <td>estimated</td>\n",
       "      <td>3995.0</td>\n",
       "      <td>3.995000e+03</td>\n",
       "    </tr>\n",
       "    <tr>\n",
       "      <th>629</th>\n",
       "      <td>629</td>\n",
       "      <td>businesses</td>\n",
       "      <td>3600.0</td>\n",
       "      <td>3.600000e+03</td>\n",
       "    </tr>\n",
       "    <tr>\n",
       "      <th>...</th>\n",
       "      <td>...</td>\n",
       "      <td>...</td>\n",
       "      <td>...</td>\n",
       "      <td>...</td>\n",
       "    </tr>\n",
       "    <tr>\n",
       "      <th>770</th>\n",
       "      <td>770</td>\n",
       "      <td>chasing</td>\n",
       "      <td>56.88</td>\n",
       "      <td>5.688000e+01</td>\n",
       "    </tr>\n",
       "    <tr>\n",
       "      <th>1514</th>\n",
       "      <td>1514</td>\n",
       "      <td>e</td>\n",
       "      <td>['$1.0 ', ' $20.0 ', ' $39.99 ', ' $59.99 ', '...</td>\n",
       "      <td>5.653143e+01</td>\n",
       "    </tr>\n",
       "    <tr>\n",
       "      <th>3703</th>\n",
       "      <td>3703</td>\n",
       "      <td>printout</td>\n",
       "      <td>56.25</td>\n",
       "      <td>5.625000e+01</td>\n",
       "    </tr>\n",
       "    <tr>\n",
       "      <th>4031</th>\n",
       "      <td>4031</td>\n",
       "      <td>response</td>\n",
       "      <td>56.25</td>\n",
       "      <td>5.625000e+01</td>\n",
       "    </tr>\n",
       "    <tr>\n",
       "      <th>1462</th>\n",
       "      <td>1462</td>\n",
       "      <td>dragon</td>\n",
       "      <td>56.05</td>\n",
       "      <td>5.605000e+01</td>\n",
       "    </tr>\n",
       "    <tr>\n",
       "      <th>4154</th>\n",
       "      <td>4154</td>\n",
       "      <td>same</td>\n",
       "      <td>55.83</td>\n",
       "      <td>5.583000e+01</td>\n",
       "    </tr>\n",
       "    <tr>\n",
       "      <th>5447</th>\n",
       "      <td>5447</td>\n",
       "      <td>zones</td>\n",
       "      <td>['$2.25', '$3.75', '$3.75', '$6.0', '$6.0', '$...</td>\n",
       "      <td>5.575000e+01</td>\n",
       "    </tr>\n",
       "    <tr>\n",
       "      <th>756</th>\n",
       "      <td>756</td>\n",
       "      <td>characterization</td>\n",
       "      <td>55.75</td>\n",
       "      <td>5.575000e+01</td>\n",
       "    </tr>\n",
       "    <tr>\n",
       "      <th>5306</th>\n",
       "      <td>5306</td>\n",
       "      <td>week</td>\n",
       "      <td>['$1.0', '$1.0', '$1.0', '$1.0', '$3.99', '$6....</td>\n",
       "      <td>5.530765e+01</td>\n",
       "    </tr>\n",
       "    <tr>\n",
       "      <th>2477</th>\n",
       "      <td>2477</td>\n",
       "      <td>industrial</td>\n",
       "      <td>55.19</td>\n",
       "      <td>5.519000e+01</td>\n",
       "    </tr>\n",
       "    <tr>\n",
       "      <th>2644</th>\n",
       "      <td>2644</td>\n",
       "      <td>justices</td>\n",
       "      <td>55.0</td>\n",
       "      <td>5.500000e+01</td>\n",
       "    </tr>\n",
       "    <tr>\n",
       "      <th>1794</th>\n",
       "      <td>1794</td>\n",
       "      <td>failures</td>\n",
       "      <td>55.0</td>\n",
       "      <td>5.500000e+01</td>\n",
       "    </tr>\n",
       "    <tr>\n",
       "      <th>1286</th>\n",
       "      <td>1286</td>\n",
       "      <td>depreciation</td>\n",
       "      <td>55.0</td>\n",
       "      <td>5.500000e+01</td>\n",
       "    </tr>\n",
       "    <tr>\n",
       "      <th>787</th>\n",
       "      <td>787</td>\n",
       "      <td>chief</td>\n",
       "      <td>55.0</td>\n",
       "      <td>5.500000e+01</td>\n",
       "    </tr>\n",
       "    <tr>\n",
       "      <th>1322</th>\n",
       "      <td>1322</td>\n",
       "      <td>deviates</td>\n",
       "      <td>55.0</td>\n",
       "      <td>5.500000e+01</td>\n",
       "    </tr>\n",
       "    <tr>\n",
       "      <th>4639</th>\n",
       "      <td>4639</td>\n",
       "      <td>strive</td>\n",
       "      <td>54.99</td>\n",
       "      <td>5.499000e+01</td>\n",
       "    </tr>\n",
       "    <tr>\n",
       "      <th>4778</th>\n",
       "      <td>4778</td>\n",
       "      <td>talks</td>\n",
       "      <td>54.99</td>\n",
       "      <td>5.499000e+01</td>\n",
       "    </tr>\n",
       "    <tr>\n",
       "      <th>3300</th>\n",
       "      <td>3300</td>\n",
       "      <td>on</td>\n",
       "      <td>54.99</td>\n",
       "      <td>5.499000e+01</td>\n",
       "    </tr>\n",
       "    <tr>\n",
       "      <th>3435</th>\n",
       "      <td>3435</td>\n",
       "      <td>passionate</td>\n",
       "      <td>54.99</td>\n",
       "      <td>5.499000e+01</td>\n",
       "    </tr>\n",
       "    <tr>\n",
       "      <th>3188</th>\n",
       "      <td>3188</td>\n",
       "      <td>need</td>\n",
       "      <td>54.99</td>\n",
       "      <td>5.499000e+01</td>\n",
       "    </tr>\n",
       "    <tr>\n",
       "      <th>4398</th>\n",
       "      <td>4398</td>\n",
       "      <td>size</td>\n",
       "      <td>54.99</td>\n",
       "      <td>5.499000e+01</td>\n",
       "    </tr>\n",
       "    <tr>\n",
       "      <th>2050</th>\n",
       "      <td>2050</td>\n",
       "      <td>futures</td>\n",
       "      <td>54.99</td>\n",
       "      <td>5.499000e+01</td>\n",
       "    </tr>\n",
       "    <tr>\n",
       "      <th>893</th>\n",
       "      <td>893</td>\n",
       "      <td>commit</td>\n",
       "      <td>54.99</td>\n",
       "      <td>5.499000e+01</td>\n",
       "    </tr>\n",
       "    <tr>\n",
       "      <th>3839</th>\n",
       "      <td>3839</td>\n",
       "      <td>quite</td>\n",
       "      <td>54.99</td>\n",
       "      <td>5.499000e+01</td>\n",
       "    </tr>\n",
       "    <tr>\n",
       "      <th>4089</th>\n",
       "      <td>4089</td>\n",
       "      <td>risky</td>\n",
       "      <td>54.99</td>\n",
       "      <td>5.499000e+01</td>\n",
       "    </tr>\n",
       "    <tr>\n",
       "      <th>1296</th>\n",
       "      <td>1296</td>\n",
       "      <td>deserve</td>\n",
       "      <td>54.99</td>\n",
       "      <td>5.499000e+01</td>\n",
       "    </tr>\n",
       "    <tr>\n",
       "      <th>144</th>\n",
       "      <td>144</td>\n",
       "      <td>all</td>\n",
       "      <td>54.99</td>\n",
       "      <td>5.499000e+01</td>\n",
       "    </tr>\n",
       "    <tr>\n",
       "      <th>1359</th>\n",
       "      <td>1359</td>\n",
       "      <td>directly</td>\n",
       "      <td>54.95</td>\n",
       "      <td>5.495000e+01</td>\n",
       "    </tr>\n",
       "    <tr>\n",
       "      <th>1380</th>\n",
       "      <td>1380</td>\n",
       "      <td>discuss</td>\n",
       "      <td>54.95</td>\n",
       "      <td>5.495000e+01</td>\n",
       "    </tr>\n",
       "    <tr>\n",
       "      <th>2618</th>\n",
       "      <td>2618</td>\n",
       "      <td>jog</td>\n",
       "      <td>54.95</td>\n",
       "      <td>5.495000e+01</td>\n",
       "    </tr>\n",
       "  </tbody>\n",
       "</table>\n",
       "<p>1089 rows × 4 columns</p>\n",
       "</div>"
      ],
      "text/plain": [
       "      Unnamed: 0              TERM  \\\n",
       "2470        2470       independent   \n",
       "1739        1739         expensive   \n",
       "2942        2942     manufacturing   \n",
       "2639        2639            jumped   \n",
       "397          397          batching   \n",
       "451          451             bethe   \n",
       "4141        4141            safest   \n",
       "4900        4900        throughput   \n",
       "135          135          airplane   \n",
       "1855        1855              fiat   \n",
       "5140        5140                up   \n",
       "3844        3844            racist   \n",
       "1649        1649           episode   \n",
       "133          133          aircraft   \n",
       "4889        4889         thousands   \n",
       "5173        5173                 v   \n",
       "5082        5082                um   \n",
       "2212        2212           halving   \n",
       "5418        5418                ye   \n",
       "606          606             build   \n",
       "710          710        categorize   \n",
       "1377        1377         discovery   \n",
       "5227        5227     visualization   \n",
       "5061        5061             turns   \n",
       "1887        1887          finished   \n",
       "3554        3554             pivot   \n",
       "1253        1253           degrees   \n",
       "1648        1648          envision   \n",
       "1671        1671         estimated   \n",
       "629          629        businesses   \n",
       "...          ...               ...   \n",
       "770          770           chasing   \n",
       "1514        1514                 e   \n",
       "3703        3703          printout   \n",
       "4031        4031          response   \n",
       "1462        1462            dragon   \n",
       "4154        4154              same   \n",
       "5447        5447             zones   \n",
       "756          756  characterization   \n",
       "5306        5306              week   \n",
       "2477        2477        industrial   \n",
       "2644        2644          justices   \n",
       "1794        1794          failures   \n",
       "1286        1286      depreciation   \n",
       "787          787             chief   \n",
       "1322        1322          deviates   \n",
       "4639        4639            strive   \n",
       "4778        4778             talks   \n",
       "3300        3300                on   \n",
       "3435        3435        passionate   \n",
       "3188        3188              need   \n",
       "4398        4398              size   \n",
       "2050        2050           futures   \n",
       "893          893            commit   \n",
       "3839        3839             quite   \n",
       "4089        4089             risky   \n",
       "1296        1296           deserve   \n",
       "144          144               all   \n",
       "1359        1359          directly   \n",
       "1380        1380           discuss   \n",
       "2618        2618               jog   \n",
       "\n",
       "                                                   COST          MEAN  \n",
       "2470                        ['$595000.0', '$3875000.0']  2.235000e+06  \n",
       "1739                                          1000000.0  1.000000e+06  \n",
       "2942                                           500000.0  5.000000e+05  \n",
       "2639                                          $198000.0  1.980000e+05  \n",
       "397                                             95000.0  9.500000e+04  \n",
       "451      ['$32.0', '$23742.0', '$51700.0', '$206800.0']  7.056850e+04  \n",
       "4141  ['$4.0', '$10.0', '$20.0', '$200.0', '$300000.0']  6.004680e+04  \n",
       "4900                                            45000.0  4.500000e+04  \n",
       "135                                             40200.0  4.020000e+04  \n",
       "1855                                           28888.88  2.888888e+04  \n",
       "5140  ['$0.27', '$5.0', '$20.04', '$5000.0', '$74990...  2.666755e+04  \n",
       "3844                             ['$156.0', '$48000.0']  2.407800e+04  \n",
       "1649  ['$1.5', '$3.0', '$5.0', '$7.0', '$15.0', '$15...  1.965206e+04  \n",
       "133                                             14300.0  1.430000e+04  \n",
       "4889                            ['$3120.0', '$25000.0']  1.406000e+04  \n",
       "5173                              ['$25.0', '$27770.0']  1.389750e+04  \n",
       "5082  ['$1.0', '$1.0', '$1.0', '$1.0', '$2.0', '$2.0...  1.371781e+04  \n",
       "2212                                            12950.0  1.295000e+04  \n",
       "5418                               ['$2.5', '$24995.0']  1.249875e+04  \n",
       "606   ['$1.0', '$1.28', '$2.0', '$8.0', '$12.0', '$1...  1.170481e+04  \n",
       "710                                              8200.0  8.200000e+03  \n",
       "1377  ['$52.0', '$52.0', '$52.0', '$58.0', '$59.0', ...  7.883125e+03  \n",
       "5227                    ['$7.0', '$5000.0', '$10000.0']  5.002333e+03  \n",
       "5061  ['$4999.0', '$4999.0', '$5000.0', '$5000.0', '...  4.999600e+03  \n",
       "1887  ['$1.0', '$1.0', '$1.0', '$2.0', '$2.0', '$3.0...  4.986375e+03  \n",
       "3554                                             4900.0  4.900000e+03  \n",
       "1253  ['$1.0', '$4.0', '$4.0', '$5.0', '$5.0', '$6.0...  4.605045e+03  \n",
       "1648                                             4550.0  4.550000e+03  \n",
       "1671                                             3995.0  3.995000e+03  \n",
       "629                                              3600.0  3.600000e+03  \n",
       "...                                                 ...           ...  \n",
       "770                                               56.88  5.688000e+01  \n",
       "1514  ['$1.0 ', ' $20.0 ', ' $39.99 ', ' $59.99 ', '...  5.653143e+01  \n",
       "3703                                              56.25  5.625000e+01  \n",
       "4031                                              56.25  5.625000e+01  \n",
       "1462                                              56.05  5.605000e+01  \n",
       "4154                                              55.83  5.583000e+01  \n",
       "5447  ['$2.25', '$3.75', '$3.75', '$6.0', '$6.0', '$...  5.575000e+01  \n",
       "756                                               55.75  5.575000e+01  \n",
       "5306  ['$1.0', '$1.0', '$1.0', '$1.0', '$3.99', '$6....  5.530765e+01  \n",
       "2477                                              55.19  5.519000e+01  \n",
       "2644                                               55.0  5.500000e+01  \n",
       "1794                                               55.0  5.500000e+01  \n",
       "1286                                               55.0  5.500000e+01  \n",
       "787                                                55.0  5.500000e+01  \n",
       "1322                                               55.0  5.500000e+01  \n",
       "4639                                              54.99  5.499000e+01  \n",
       "4778                                              54.99  5.499000e+01  \n",
       "3300                                              54.99  5.499000e+01  \n",
       "3435                                              54.99  5.499000e+01  \n",
       "3188                                              54.99  5.499000e+01  \n",
       "4398                                              54.99  5.499000e+01  \n",
       "2050                                              54.99  5.499000e+01  \n",
       "893                                               54.99  5.499000e+01  \n",
       "3839                                              54.99  5.499000e+01  \n",
       "4089                                              54.99  5.499000e+01  \n",
       "1296                                              54.99  5.499000e+01  \n",
       "144                                               54.99  5.499000e+01  \n",
       "1359                                              54.95  5.495000e+01  \n",
       "1380                                              54.95  5.495000e+01  \n",
       "2618                                              54.95  5.495000e+01  \n",
       "\n",
       "[1089 rows x 4 columns]"
      ]
     },
     "execution_count": 150,
     "metadata": {},
     "output_type": "execute_result"
    }
   ],
   "source": [
    "df = price_table\n",
    "pareto_percent20 = lambda x : int(x) / 5\n",
    "df.sort_values(by=['MEAN'], ascending=False).head(int(pareto_percent20(len(df))))"
   ]
  },
  {
   "cell_type": "code",
   "execution_count": 42,
   "metadata": {},
   "outputs": [
    {
     "name": "stdout",
     "output_type": "stream",
     "text": [
      "Total Terms Value = $4826081.044319138\n",
      "80% of Total Terms Value = $3860864.8443191377\n",
      "Top Twenty 20% Term Data Size = 1041 terms\n",
      "Top 20% Term Mean Cost = $4567.052047475837 \n",
      "Average Mean (Mean Mean) Cost = $926.8448327863689\n"
     ]
    },
    {
     "data": {
      "text/plain": [
       "'20% Data Size (=1041) x AVG Top 20% Term Mean Cost(=$4567.052047475837) => $4754301.181422346'"
      ]
     },
     "execution_count": 42,
     "metadata": {},
     "output_type": "execute_result"
    }
   ],
   "source": [
    "non_empty_data_records = price_table[~price_table.MEAN.isna()].sort_values(by=['MEAN'], ascending=False)\n",
    "TOTAL_TERMS_COST = sum(non_empty_data_records.MEAN)\n",
    "top_20_length = int(pareto_percent20( len(non_empty_data_records) ))\n",
    "\n",
    "print(\"Total Terms Value = ${}\".format(TOTAL_TERMS_COST))\n",
    "print(\"80% of Total Terms Value = ${}\".format(TOTAL_TERMS_COST - pareto_percent20(TOTAL_TERMS_COST)))\n",
    "print(\"Top Twenty 20% Term Data Size = {} terms\".format(top_20_length))\n",
    "\n",
    "top_20_percent_terms = non_empty_data_records.sort_values(by=['MEAN'], ascending=False).head(top_20_length)\n",
    "average_term_cost_for_top_20_percent_terms = np.mean(top_20_percent_terms.MEAN)\n",
    "print(\"Top 20% Term Mean Cost = ${} \".format(str(average_term_cost_for_top_20_percent_terms) ))\n",
    "print(\"Average Mean (Mean Mean) Cost = ${}\".format(np.mean(price_table.MEAN)))\n",
    "\n",
    "\"20% Data Size (={}) x AVG Top 20% Term Mean Cost(=${}) => ${}\".format( top_20_length, str(average_term_cost_for_top_20_percent_terms) , average_term_cost_for_top_20_percent_terms* top_20_length)"
   ]
  },
  {
   "cell_type": "code",
   "execution_count": 43,
   "metadata": {},
   "outputs": [
    {
     "data": {
      "text/plain": [
       "(242, 5449)"
      ]
     },
     "execution_count": 43,
     "metadata": {},
     "output_type": "execute_result"
    }
   ],
   "source": [
    "sum(price_table.MEAN.isna()), len(price_table)"
   ]
  },
  {
   "cell_type": "markdown",
   "metadata": {},
   "source": [
    "### Boxplot of Mean Cost\n",
    "##### https://python-graph-gallery.com/31-horizontal-boxplot-with-seaborn/"
   ]
  },
  {
   "cell_type": "code",
   "execution_count": 40,
   "metadata": {},
   "outputs": [
    {
     "data": {
      "text/plain": [
       "[Text(0.5, 0, 'MEAN PRICE LIST (DOLLAR AMOUNT $)'),\n",
       " Text(0.5, 1.0, 'MEAN COST OF TERM BASED BY EBAY AND GOOGLE SHOP LISTING PRICES')]"
      ]
     },
     "execution_count": 40,
     "metadata": {},
     "output_type": "execute_result"
    },
    {
     "data": {
      "image/png": "[encoded data removed]",
      "text/plain": [
       "<Figure size 432x288 with 1 Axes>"
      ]
     },
     "metadata": {
      "needs_background": "light"
     },
     "output_type": "display_data"
    }
   ],
   "source": [
    "import seaborn as sns\n",
    "\n",
    "ax =sns.boxplot( x=df[\"MEAN\"] ,showfliers=0)\n",
    "ax.set(xlabel='MEAN PRICE LIST (DOLLAR AMOUNT $)', title='MEAN COST OF TERM BASED BY EBAY AND GOOGLE SHOP LISTING PRICES')"
   ]
  },
  {
   "cell_type": "markdown",
   "metadata": {},
   "source": [
    "### WordCloud\n",
    "##### https://python-graph-gallery.com/261-custom-python-wordcloud/\n",
    "#### James 4\n",
    "> 14 What is the nature of your life? You are but a wisp of vapor that is visible for a little while and then disappears [ vanishes]\n",
    "> 15 You ought instead to say, If the Lord is willing, we shall live and we shall do this or that\n",
    "- James 4:14"
   ]
  },
  {
   "cell_type": "markdown",
   "metadata": {},
   "source": [
    "##### Top 1% of ~5000 5K Term Cost Map ==> 50 Word Terms"
   ]
  },
  {
   "cell_type": "code",
   "execution_count": 77,
   "metadata": {},
   "outputs": [
    {
     "data": {
      "text/html": [
       "<div>\n",
       "<style scoped>\n",
       "    .dataframe tbody tr th:only-of-type {\n",
       "        vertical-align: middle;\n",
       "    }\n",
       "\n",
       "    .dataframe tbody tr th {\n",
       "        vertical-align: top;\n",
       "    }\n",
       "\n",
       "    .dataframe thead th {\n",
       "        text-align: right;\n",
       "    }\n",
       "</style>\n",
       "<table border=\"1\" class=\"dataframe\">\n",
       "  <thead>\n",
       "    <tr style=\"text-align: right;\">\n",
       "      <th></th>\n",
       "      <th>Unnamed: 0</th>\n",
       "      <th>TERM</th>\n",
       "      <th>COST</th>\n",
       "      <th>MEAN</th>\n",
       "      <th>NORM</th>\n",
       "    </tr>\n",
       "  </thead>\n",
       "  <tbody>\n",
       "    <tr>\n",
       "      <th>2470</th>\n",
       "      <td>2470</td>\n",
       "      <td>independent</td>\n",
       "      <td>['$595000.0', '$3875000.0']</td>\n",
       "      <td>2235000.00</td>\n",
       "      <td>0.470101</td>\n",
       "    </tr>\n",
       "    <tr>\n",
       "      <th>1739</th>\n",
       "      <td>1739</td>\n",
       "      <td>expensive</td>\n",
       "      <td>1000000.0</td>\n",
       "      <td>1000000.00</td>\n",
       "      <td>0.210336</td>\n",
       "    </tr>\n",
       "    <tr>\n",
       "      <th>2942</th>\n",
       "      <td>2942</td>\n",
       "      <td>manufacturing</td>\n",
       "      <td>500000.0</td>\n",
       "      <td>500000.00</td>\n",
       "      <td>0.105168</td>\n",
       "    </tr>\n",
       "    <tr>\n",
       "      <th>2639</th>\n",
       "      <td>2639</td>\n",
       "      <td>jumped</td>\n",
       "      <td>$198000.0</td>\n",
       "      <td>198000.00</td>\n",
       "      <td>0.041646</td>\n",
       "    </tr>\n",
       "    <tr>\n",
       "      <th>397</th>\n",
       "      <td>397</td>\n",
       "      <td>batching</td>\n",
       "      <td>95000.0</td>\n",
       "      <td>95000.00</td>\n",
       "      <td>0.019982</td>\n",
       "    </tr>\n",
       "    <tr>\n",
       "      <th>451</th>\n",
       "      <td>451</td>\n",
       "      <td>bethe</td>\n",
       "      <td>['$32.0', '$23742.0', '$51700.0', '$206800.0']</td>\n",
       "      <td>70568.50</td>\n",
       "      <td>0.014843</td>\n",
       "    </tr>\n",
       "    <tr>\n",
       "      <th>4141</th>\n",
       "      <td>4141</td>\n",
       "      <td>safest</td>\n",
       "      <td>['$4.0', '$10.0', '$20.0', '$200.0', '$300000.0']</td>\n",
       "      <td>60046.80</td>\n",
       "      <td>0.012630</td>\n",
       "    </tr>\n",
       "    <tr>\n",
       "      <th>4900</th>\n",
       "      <td>4900</td>\n",
       "      <td>throughput</td>\n",
       "      <td>45000.0</td>\n",
       "      <td>45000.00</td>\n",
       "      <td>0.009465</td>\n",
       "    </tr>\n",
       "    <tr>\n",
       "      <th>135</th>\n",
       "      <td>135</td>\n",
       "      <td>airplane</td>\n",
       "      <td>40200.0</td>\n",
       "      <td>40200.00</td>\n",
       "      <td>0.008456</td>\n",
       "    </tr>\n",
       "    <tr>\n",
       "      <th>1855</th>\n",
       "      <td>1855</td>\n",
       "      <td>fiat</td>\n",
       "      <td>28888.88</td>\n",
       "      <td>28888.88</td>\n",
       "      <td>0.006076</td>\n",
       "    </tr>\n",
       "  </tbody>\n",
       "</table>\n",
       "</div>"
      ],
      "text/plain": [
       "      Unnamed: 0           TERM  \\\n",
       "2470        2470    independent   \n",
       "1739        1739      expensive   \n",
       "2942        2942  manufacturing   \n",
       "2639        2639         jumped   \n",
       "397          397       batching   \n",
       "451          451          bethe   \n",
       "4141        4141         safest   \n",
       "4900        4900     throughput   \n",
       "135          135       airplane   \n",
       "1855        1855           fiat   \n",
       "\n",
       "                                                   COST        MEAN      NORM  \n",
       "2470                        ['$595000.0', '$3875000.0']  2235000.00  0.470101  \n",
       "1739                                          1000000.0  1000000.00  0.210336  \n",
       "2942                                           500000.0   500000.00  0.105168  \n",
       "2639                                          $198000.0   198000.00  0.041646  \n",
       "397                                             95000.0    95000.00  0.019982  \n",
       "451      ['$32.0', '$23742.0', '$51700.0', '$206800.0']    70568.50  0.014843  \n",
       "4141  ['$4.0', '$10.0', '$20.0', '$200.0', '$300000.0']    60046.80  0.012630  \n",
       "4900                                            45000.0    45000.00  0.009465  \n",
       "135                                             40200.0    40200.00  0.008456  \n",
       "1855                                           28888.88    28888.88  0.006076  "
      ]
     },
     "execution_count": 77,
     "metadata": {},
     "output_type": "execute_result"
    }
   ],
   "source": [
    "TOP_TWO_PERCENT_POINTS_OF_5000K_WORD_TERMS = int(5000*0.002) # 0.002 (=0.2%)\n",
    "top_20_percent_terms.head(TOP_TWO_PERCENT_POINTS_OF_5000K_WORD_TERMS)"
   ]
  },
  {
   "cell_type": "code",
   "execution_count": 86,
   "metadata": {},
   "outputs": [],
   "source": [
    "low_20_percent_terms = non_empty_data_records.sort_values(by=['MEAN'], ascending=True).head(top_20_length)\n",
    "#low_20_percent_terms.tail(TOP_TWO_PERCENT_POINTS_OF_5000K_WORD_TERMS)"
   ]
  },
  {
   "cell_type": "code",
   "execution_count": 80,
   "metadata": {},
   "outputs": [],
   "source": [
    "df1 = low_20_percent_terms.tail(TOP_TWO_PERCENT_POINTS_OF_5000K_WORD_TERMS)[['TERM','MEAN']]\n",
    "df2 = top_20_percent_terms.head(TOP_TWO_PERCENT_POINTS_OF_5000K_WORD_TERMS)[['TERM','MEAN']]\n",
    "\n",
    "s_low20 = np.sum(df1.MEAN)\n",
    "df1['NORM'] = df1.MEAN / s_low20\n",
    "\n",
    "s_top20 = np.sum(df2.MEAN)\n",
    "df2['NORM'] = df2.MEAN / s_top20"
   ]
  },
  {
   "cell_type": "code",
   "execution_count": 81,
   "metadata": {},
   "outputs": [
    {
     "data": {
      "text/html": [
       "<div>\n",
       "<style scoped>\n",
       "    .dataframe tbody tr th:only-of-type {\n",
       "        vertical-align: middle;\n",
       "    }\n",
       "\n",
       "    .dataframe tbody tr th {\n",
       "        vertical-align: top;\n",
       "    }\n",
       "\n",
       "    .dataframe thead th {\n",
       "        text-align: right;\n",
       "    }\n",
       "</style>\n",
       "<table border=\"1\" class=\"dataframe\">\n",
       "  <thead>\n",
       "    <tr style=\"text-align: right;\">\n",
       "      <th></th>\n",
       "      <th>TERM</th>\n",
       "      <th>MEAN</th>\n",
       "      <th>NORM</th>\n",
       "    </tr>\n",
       "  </thead>\n",
       "  <tbody>\n",
       "    <tr>\n",
       "      <th>4337</th>\n",
       "      <td>shortlist</td>\n",
       "      <td>7.790</td>\n",
       "      <td>0.098931</td>\n",
       "    </tr>\n",
       "    <tr>\n",
       "      <th>2612</th>\n",
       "      <td>jagged</td>\n",
       "      <td>7.800</td>\n",
       "      <td>0.099058</td>\n",
       "    </tr>\n",
       "    <tr>\n",
       "      <th>2538</th>\n",
       "      <td>interacting</td>\n",
       "      <td>7.880</td>\n",
       "      <td>0.100074</td>\n",
       "    </tr>\n",
       "    <tr>\n",
       "      <th>1331</th>\n",
       "      <td>dictator</td>\n",
       "      <td>7.880</td>\n",
       "      <td>0.100074</td>\n",
       "    </tr>\n",
       "    <tr>\n",
       "      <th>2703</th>\n",
       "      <td>languages</td>\n",
       "      <td>7.880</td>\n",
       "      <td>0.100074</td>\n",
       "    </tr>\n",
       "    <tr>\n",
       "      <th>576</th>\n",
       "      <td>breathing</td>\n",
       "      <td>7.890</td>\n",
       "      <td>0.100201</td>\n",
       "    </tr>\n",
       "    <tr>\n",
       "      <th>81</th>\n",
       "      <td>adult</td>\n",
       "      <td>7.890</td>\n",
       "      <td>0.100201</td>\n",
       "    </tr>\n",
       "    <tr>\n",
       "      <th>5088</th>\n",
       "      <td>unconscious</td>\n",
       "      <td>7.892</td>\n",
       "      <td>0.100226</td>\n",
       "    </tr>\n",
       "    <tr>\n",
       "      <th>4953</th>\n",
       "      <td>toto</td>\n",
       "      <td>7.900</td>\n",
       "      <td>0.100328</td>\n",
       "    </tr>\n",
       "    <tr>\n",
       "      <th>106</th>\n",
       "      <td>afraid</td>\n",
       "      <td>7.940</td>\n",
       "      <td>0.100836</td>\n",
       "    </tr>\n",
       "  </tbody>\n",
       "</table>\n",
       "</div>"
      ],
      "text/plain": [
       "             TERM   MEAN      NORM\n",
       "4337    shortlist  7.790  0.098931\n",
       "2612       jagged  7.800  0.099058\n",
       "2538  interacting  7.880  0.100074\n",
       "1331     dictator  7.880  0.100074\n",
       "2703    languages  7.880  0.100074\n",
       "576     breathing  7.890  0.100201\n",
       "81          adult  7.890  0.100201\n",
       "5088  unconscious  7.892  0.100226\n",
       "4953         toto  7.900  0.100328\n",
       "106        afraid  7.940  0.100836"
      ]
     },
     "execution_count": 81,
     "metadata": {},
     "output_type": "execute_result"
    }
   ],
   "source": [
    "df1"
   ]
  },
  {
   "cell_type": "code",
   "execution_count": 85,
   "metadata": {},
   "outputs": [
    {
     "data": {
      "image/png": "[encoded data removed]",
      "text/plain": [
       "<Figure size 432x288 with 1 Axes>"
      ]
     },
     "metadata": {
      "needs_background": "light"
     },
     "output_type": "display_data"
    }
   ],
   "source": [
    "from wordcloud import WordCloud\n",
    "import matplotlib.pyplot as plt\n",
    "# Create a list of word\n",
    "top_twenty_text=' '.join(df1.TERM.values)\n",
    "\n",
    "wordcloud = WordCloud(width=480, height=480, background_color=\"skyblue\").generate(top_twenty_text)\n",
    "plt.figure()\n",
    "plt.imshow(wordcloud, interpolation=\"bilinear\")\n",
    "plt.axis(\"off\")\n",
    "plt.margins(x=0, y=0)\n",
    "plt.show()"
   ]
  },
  {
   "cell_type": "markdown",
   "metadata": {},
   "source": [
    "#### Above: Figure of 10 Least Cost Terms Word Cloud\n",
    "##### $7.99 Uniform Distribution Almost All Equal Weighted"
   ]
  },
  {
   "cell_type": "code",
   "execution_count": 148,
   "metadata": {},
   "outputs": [
    {
     "data": {
      "text/plain": [
       "427270.41799999995"
      ]
     },
     "execution_count": 148,
     "metadata": {},
     "output_type": "execute_result"
    }
   ],
   "source": [
    "df = top_20_percent_terms.head(TOP_TWO_PERCENT_POINTS_OF_5000K_WORD_TERMS)\n",
    "np.mean(df.MEAN)"
   ]
  },
  {
   "cell_type": "markdown",
   "metadata": {},
   "source": [
    "#### Below: Top Ten 10 Terms\n",
    "##### Average Listing  Cost ~ $50-500K"
   ]
  },
  {
   "cell_type": "markdown",
   "metadata": {},
   "source": [
    "![](5000terms.png)"
   ]
  },
  {
   "cell_type": "markdown",
   "metadata": {},
   "source": [
    "### Graph ✰ Star Bar Chart Diagram Go →\n"
   ]
  },
  {
   "cell_type": "markdown",
   "metadata": {},
   "source": [
    "https://stackoverflow.com/questions/53577630/how-to-make-pareto-chart-in-python"
   ]
  },
  {
   "cell_type": "code",
   "execution_count": 158,
   "metadata": {},
   "outputs": [],
   "source": [
    "NQ = 4\n",
    "qs = []\n",
    "\n",
    "non_empty_data_records = price_table[~price_table.MEAN.isna()].sort_values(by=['MEAN'], ascending=False)\n",
    "\n",
    "for i in range(NQ):\n",
    "    si = int(i*len(df)/NQ)\n",
    "    ti = int((i+1)*len(df)/NQ)\n",
    "    qs += [sum(non_empty_data_records[si:ti].MEAN)]"
   ]
  },
  {
   "cell_type": "code",
   "execution_count": 159,
   "metadata": {},
   "outputs": [
    {
     "data": {
      "text/plain": [
       "[4769815.619660792, 34656.720178725875, 16395.60827383599, 5213.096205371322]"
      ]
     },
     "execution_count": 159,
     "metadata": {},
     "output_type": "execute_result"
    }
   ],
   "source": [
    "qs"
   ]
  },
  {
   "cell_type": "code",
   "execution_count": 5,
   "metadata": {},
   "outputs": [],
   "source": [
    "qs = [4769815.619660792, 34656.720178725875, 16395.60827383599, 5213.096205371322]"
   ]
  },
  {
   "cell_type": "code",
   "execution_count": 36,
   "metadata": {},
   "outputs": [
    {
     "data": {
      "image/png": "[encoded data removed]",
      "text/plain": [
       "<Figure size 432x288 with 2 Axes>"
      ]
     },
     "metadata": {},
     "output_type": "display_data"
    }
   ],
   "source": [
    "import pandas as pd\n",
    "import matplotlib.pyplot as plt\n",
    "from matplotlib.ticker import PercentFormatter\n",
    "\n",
    "df = pd.DataFrame({'quartile': qs})\n",
    "df.index = ['Q4', 'Q3', 'Q2', 'Q1']\n",
    "df[\"cumpercentage\"] = df[\"quartile\"].cumsum()/df[\"quartile\"].sum()*100\n",
    "df.sort_values(by=['quartile'], ascending=False)\n",
    "\n",
    "fig, ax = plt.subplots()\n",
    "ax.bar(df.index, df[\"quartile\"], color=\"C0\")\n",
    "ax2 = ax.twinx()\n",
    "ax2.plot(df.index, df[\"cumpercentage\"], color=\"C1\", marker=\"D\", ms=7)\n",
    "ax2.yaxis.set_major_formatter(PercentFormatter())\n",
    "\n",
    "ax.tick_params(axis=\"y\", colors=\"C0\")\n",
    "ax2.tick_params(axis=\"y\", colors=\"C1\")\n",
    "ax.set_ylabel('$ COST / ITEM')\n",
    "ax2.set_ylabel('2% Hyper Pareto Percentage Total Cumulative Cost')\n",
    "\n",
    "ax.set_title(\"EBAY / GOOG ITEM COST PER TERM BY QUARTILE\")\n",
    "plt.show()"
   ]
  },
  {
   "cell_type": "markdown",
   "metadata": {},
   "source": [
    "### Inflation Doubled (50% Returns Means Halving Purchasing Power) Since Internet 1990s DotCom Boom - c.2020 (Year of Analysis)"
   ]
  },
  {
   "cell_type": "markdown",
   "metadata": {},
   "source": [
    "### Log Transformation http://onlinestatbook.com/2/transformations/log.html"
   ]
  },
  {
   "cell_type": "code",
   "execution_count": 30,
   "metadata": {},
   "outputs": [
    {
     "data": {
      "text/html": [
       "<div>\n",
       "<style scoped>\n",
       "    .dataframe tbody tr th:only-of-type {\n",
       "        vertical-align: middle;\n",
       "    }\n",
       "\n",
       "    .dataframe tbody tr th {\n",
       "        vertical-align: top;\n",
       "    }\n",
       "\n",
       "    .dataframe thead th {\n",
       "        text-align: right;\n",
       "    }\n",
       "</style>\n",
       "<table border=\"1\" class=\"dataframe\">\n",
       "  <thead>\n",
       "    <tr style=\"text-align: right;\">\n",
       "      <th></th>\n",
       "      <th>Unnamed: 0</th>\n",
       "      <th>TERM</th>\n",
       "      <th>COST</th>\n",
       "      <th>MEAN</th>\n",
       "      <th>log_cost</th>\n",
       "    </tr>\n",
       "  </thead>\n",
       "  <tbody>\n",
       "    <tr>\n",
       "      <th>2470</th>\n",
       "      <td>2470</td>\n",
       "      <td>independent</td>\n",
       "      <td>['$595000.0', '$3875000.0']</td>\n",
       "      <td>2235000.0</td>\n",
       "      <td>14.619752</td>\n",
       "    </tr>\n",
       "    <tr>\n",
       "      <th>1739</th>\n",
       "      <td>1739</td>\n",
       "      <td>expensive</td>\n",
       "      <td>1000000.0</td>\n",
       "      <td>1000000.0</td>\n",
       "      <td>13.815511</td>\n",
       "    </tr>\n",
       "    <tr>\n",
       "      <th>2942</th>\n",
       "      <td>2942</td>\n",
       "      <td>manufacturing</td>\n",
       "      <td>500000.0</td>\n",
       "      <td>500000.0</td>\n",
       "      <td>13.122363</td>\n",
       "    </tr>\n",
       "    <tr>\n",
       "      <th>2639</th>\n",
       "      <td>2639</td>\n",
       "      <td>jumped</td>\n",
       "      <td>$198000.0</td>\n",
       "      <td>198000.0</td>\n",
       "      <td>12.196022</td>\n",
       "    </tr>\n",
       "    <tr>\n",
       "      <th>397</th>\n",
       "      <td>397</td>\n",
       "      <td>batching</td>\n",
       "      <td>95000.0</td>\n",
       "      <td>95000.0</td>\n",
       "      <td>11.461632</td>\n",
       "    </tr>\n",
       "  </tbody>\n",
       "</table>\n",
       "</div>"
      ],
      "text/plain": [
       "      Unnamed: 0           TERM                         COST       MEAN  \\\n",
       "2470        2470    independent  ['$595000.0', '$3875000.0']  2235000.0   \n",
       "1739        1739      expensive                    1000000.0  1000000.0   \n",
       "2942        2942  manufacturing                     500000.0   500000.0   \n",
       "2639        2639         jumped                    $198000.0   198000.0   \n",
       "397          397       batching                      95000.0    95000.0   \n",
       "\n",
       "       log_cost  \n",
       "2470  14.619752  \n",
       "1739  13.815511  \n",
       "2942  13.122363  \n",
       "2639  12.196022  \n",
       "397   11.461632  "
      ]
     },
     "execution_count": 30,
     "metadata": {},
     "output_type": "execute_result"
    }
   ],
   "source": [
    "import numpy as np\n",
    "\n",
    "price_table['log_cost'] = price_table.MEAN.apply(lambda c : np.log(c))\n",
    "log_non_empty_data_records = price_table[~price_table.MEAN.isna()].sort_values(by=['log_cost'], ascending=False)\n",
    "log_non_empty_data_records.head()"
   ]
  },
  {
   "cell_type": "code",
   "execution_count": 31,
   "metadata": {},
   "outputs": [
    {
     "data": {
      "text/html": [
       "<div>\n",
       "<style scoped>\n",
       "    .dataframe tbody tr th:only-of-type {\n",
       "        vertical-align: middle;\n",
       "    }\n",
       "\n",
       "    .dataframe tbody tr th {\n",
       "        vertical-align: top;\n",
       "    }\n",
       "\n",
       "    .dataframe thead th {\n",
       "        text-align: right;\n",
       "    }\n",
       "</style>\n",
       "<table border=\"1\" class=\"dataframe\">\n",
       "  <thead>\n",
       "    <tr style=\"text-align: right;\">\n",
       "      <th></th>\n",
       "      <th>Unnamed: 0</th>\n",
       "      <th>TERM</th>\n",
       "      <th>COST</th>\n",
       "      <th>MEAN</th>\n",
       "      <th>log_cost</th>\n",
       "    </tr>\n",
       "  </thead>\n",
       "  <tbody>\n",
       "    <tr>\n",
       "      <th>3702</th>\n",
       "      <td>3702</td>\n",
       "      <td>printing</td>\n",
       "      <td>['$0.03', '$0.13']</td>\n",
       "      <td>0.08</td>\n",
       "      <td>-2.525729</td>\n",
       "    </tr>\n",
       "    <tr>\n",
       "      <th>873</th>\n",
       "      <td>873</td>\n",
       "      <td>com</td>\n",
       "      <td>0.01</td>\n",
       "      <td>0.01</td>\n",
       "      <td>-4.605170</td>\n",
       "    </tr>\n",
       "    <tr>\n",
       "      <th>221</th>\n",
       "      <td>221</td>\n",
       "      <td>applies</td>\n",
       "      <td>0.01</td>\n",
       "      <td>0.01</td>\n",
       "      <td>-4.605170</td>\n",
       "    </tr>\n",
       "    <tr>\n",
       "      <th>1954</th>\n",
       "      <td>1954</td>\n",
       "      <td>foreclosure</td>\n",
       "      <td>0.01</td>\n",
       "      <td>0.01</td>\n",
       "      <td>-4.605170</td>\n",
       "    </tr>\n",
       "    <tr>\n",
       "      <th>0</th>\n",
       "      <td>0</td>\n",
       "      <td>a</td>\n",
       "      <td>0.0</td>\n",
       "      <td>0.00</td>\n",
       "      <td>-inf</td>\n",
       "    </tr>\n",
       "  </tbody>\n",
       "</table>\n",
       "</div>"
      ],
      "text/plain": [
       "      Unnamed: 0         TERM                COST  MEAN  log_cost\n",
       "3702        3702     printing  ['$0.03', '$0.13']  0.08 -2.525729\n",
       "873          873          com                0.01  0.01 -4.605170\n",
       "221          221      applies                0.01  0.01 -4.605170\n",
       "1954        1954  foreclosure                0.01  0.01 -4.605170\n",
       "0              0            a                 0.0  0.00      -inf"
      ]
     },
     "execution_count": 31,
     "metadata": {},
     "output_type": "execute_result"
    }
   ],
   "source": [
    "log_non_empty_data_records.tail()"
   ]
  },
  {
   "cell_type": "code",
   "execution_count": 43,
   "metadata": {},
   "outputs": [
    {
     "data": {
      "text/plain": [
       "[6490.845493996918, 4245.602269583636, 3312.725161456652, 1933.8047034220508]"
      ]
     },
     "execution_count": 43,
     "metadata": {},
     "output_type": "execute_result"
    }
   ],
   "source": [
    "NQ = 4\n",
    "log_qs = []\n",
    "df = log_non_empty_data_records[:-1]\n",
    "\n",
    "for i in range(NQ):\n",
    "    s_i = int(i*len(df)/NQ)\n",
    "    t_i = int((i+1)*len(df)/NQ)\n",
    "\n",
    "    log_qs += [sum(log_non_empty_data_records[s_i:t_i].log_cost)]\n",
    "    \n",
    "#log_qs = [lq/(len(df)/NQ) for lq in log_qs]\n",
    "log_qs"
   ]
  },
  {
   "cell_type": "code",
   "execution_count": 4,
   "metadata": {},
   "outputs": [
    {
     "data": {
      "text/plain": [
       "[4.987203606605392, 3.262083956652813, 2.5453132243232055, 1.4858276630211684]"
      ]
     },
     "execution_count": 4,
     "metadata": {},
     "output_type": "execute_result"
    }
   ],
   "source": [
    "log_qs = [lq/(len(df)/NQ) for lq in log_qs]\n",
    "#log_qs = [4.987203606605392, 3.262083956652813, 2.5453132243232055, 1.4858276630211684]\n",
    "log_qs"
   ]
  },
  {
   "cell_type": "code",
   "execution_count": 18,
   "metadata": {},
   "outputs": [
    {
     "data": {
      "text/html": [
       "<div>\n",
       "<style scoped>\n",
       "    .dataframe tbody tr th:only-of-type {\n",
       "        vertical-align: middle;\n",
       "    }\n",
       "\n",
       "    .dataframe tbody tr th {\n",
       "        vertical-align: top;\n",
       "    }\n",
       "\n",
       "    .dataframe thead th {\n",
       "        text-align: right;\n",
       "    }\n",
       "</style>\n",
       "<table border=\"1\" class=\"dataframe\">\n",
       "  <thead>\n",
       "    <tr style=\"text-align: right;\">\n",
       "      <th></th>\n",
       "      <th>quartile</th>\n",
       "      <th>cumpercentage</th>\n",
       "    </tr>\n",
       "  </thead>\n",
       "  <tbody>\n",
       "    <tr>\n",
       "      <th>Q4</th>\n",
       "      <td>4.769816e+06</td>\n",
       "      <td>98.834138</td>\n",
       "    </tr>\n",
       "    <tr>\n",
       "      <th>Q3</th>\n",
       "      <td>3.465672e+04</td>\n",
       "      <td>99.552252</td>\n",
       "    </tr>\n",
       "    <tr>\n",
       "      <th>Q2</th>\n",
       "      <td>1.639561e+04</td>\n",
       "      <td>99.891981</td>\n",
       "    </tr>\n",
       "    <tr>\n",
       "      <th>Q1</th>\n",
       "      <td>5.213096e+03</td>\n",
       "      <td>100.000000</td>\n",
       "    </tr>\n",
       "  </tbody>\n",
       "</table>\n",
       "</div>"
      ],
      "text/plain": [
       "        quartile  cumpercentage\n",
       "Q4  4.769816e+06      98.834138\n",
       "Q3  3.465672e+04      99.552252\n",
       "Q2  1.639561e+04      99.891981\n",
       "Q1  5.213096e+03     100.000000"
      ]
     },
     "execution_count": 18,
     "metadata": {},
     "output_type": "execute_result"
    }
   ],
   "source": [
    "df#[\"cumpercentage\"]"
   ]
  },
  {
   "cell_type": "code",
   "execution_count": 35,
   "metadata": {},
   "outputs": [
    {
     "data": {
      "image/png": "[encoded data removed]",
      "text/plain": [
       "<Figure size 432x288 with 2 Axes>"
      ]
     },
     "metadata": {},
     "output_type": "display_data"
    }
   ],
   "source": [
    "import pandas as pd\n",
    "import matplotlib.pyplot as plt\n",
    "from matplotlib.ticker import PercentFormatter\n",
    "\n",
    "df_log = pd.DataFrame({'quartile': log_qs})\n",
    "\n",
    "df_log.index = ['Q4 ($1e5)', 'Q3 ($1e3)', 'Q2 ($1e2)', 'Q1 ($10)']\n",
    "df_log[\"cumpercentage\"] = df_log[\"quartile\"].cumsum()/df_log[\"quartile\"].sum()*100\n",
    "df_log.sort_values(by=['quartile'], ascending=False)\n",
    "\n",
    "fig, ax = plt.subplots()\n",
    "ax.bar(df_log.index, df_log[\"quartile\"], color=\"C0\")\n",
    "ax2 = ax.twinx()\n",
    "ax2.plot(df.index, df[\"cumpercentage\"], color=\"C1\", marker=\"D\", ms=7)\n",
    "ax2.yaxis.set_major_formatter(PercentFormatter())\n",
    "\n",
    "ax.tick_params(axis=\"y\", colors=\"C0\")\n",
    "ax2.tick_params(axis=\"y\", colors=\"C1\")\n",
    "ax.set_ylabel('AVG MEAN log_10( $COST ) /   LIST ITEM (10^y)')\n",
    "ax2.set_ylabel('2% Hyper Pareto Percentage Total Cumulative Cost')\n",
    "\n",
    "ax.set_title(\"EBAY / GOOG ITEM COST PER TERM BY QUARTILE\")\n",
    "plt.show()"
   ]
  },
  {
   "cell_type": "markdown",
   "metadata": {},
   "source": [
    "### Calculate Cost of Youtube Video by ID Function Based by Training Data Sample/ Model"
   ]
  },
  {
   "cell_type": "markdown",
   "metadata": {},
   "source": [
    "# $E[w] = \\Sigma_{w \\in W} \\text{Probability}(w) \\times \\text{price}_w$  "
   ]
  },
  {
   "cell_type": "code",
   "execution_count": 85,
   "metadata": {},
   "outputs": [],
   "source": [
    "from youtube_transcript_api import YouTubeTranscriptApi\n",
    "import numpy as np\n",
    "\n",
    "video_id = 'oRkvO6RWVtg'\n",
    "\n",
    "def calculate_cost_of_term(t):\n",
    "    prices_list = get_word_worth_in_mean_or_average_amazon_api_dollars(t) + [find_ebay_api_item_price_by_keyword('airplane')['value']]\n",
    "    pl = [float(pl[1:]) if '$' in pl else float(pl) for pl in prices_list]\n",
    "    return np.mean(pl) if pl else 0\n",
    "\n",
    "def count_cost_of_youtube_video(vid):\n",
    "    json_list = YouTubeTranscriptApi.get_transcript(video_id)\n",
    "    transcript_text = ''.join(list(map(lambda j: j['text'], json_list)))\n",
    "    text = clean_string( transcript_text)\n",
    "\n",
    "    word_worth_probability_table = get_word_term_frequency_sample_probability(text)\n",
    "\n",
    "    cc = 0\n",
    "    \n",
    "    for t in word_worth_probability_table:\n",
    "        price = calculate_cost_of_term(t)\n",
    "        E = price * (word_worth_probability_table[t])\n",
    "        cc += E\n",
    "\n",
    "    return cc"
   ]
  },
  {
   "cell_type": "code",
   "execution_count": 92,
   "metadata": {},
   "outputs": [
    {
     "data": {
      "text/html": [
       "<div>\n",
       "<style scoped>\n",
       "    .dataframe tbody tr th:only-of-type {\n",
       "        vertical-align: middle;\n",
       "    }\n",
       "\n",
       "    .dataframe tbody tr th {\n",
       "        vertical-align: top;\n",
       "    }\n",
       "\n",
       "    .dataframe thead th {\n",
       "        text-align: right;\n",
       "    }\n",
       "</style>\n",
       "<table border=\"1\" class=\"dataframe\">\n",
       "  <thead>\n",
       "    <tr style=\"text-align: right;\">\n",
       "      <th></th>\n",
       "      <th>freq</th>\n",
       "      <th>term</th>\n",
       "    </tr>\n",
       "  </thead>\n",
       "  <tbody>\n",
       "    <tr>\n",
       "      <th>0</th>\n",
       "      <td>0.000761</td>\n",
       "      <td>unfortunately</td>\n",
       "    </tr>\n",
       "    <tr>\n",
       "      <th>1</th>\n",
       "      <td>0.000761</td>\n",
       "      <td>closingthe</td>\n",
       "    </tr>\n",
       "    <tr>\n",
       "      <th>2</th>\n",
       "      <td>0.000761</td>\n",
       "      <td>lets</td>\n",
       "    </tr>\n",
       "    <tr>\n",
       "      <th>3</th>\n",
       "      <td>0.002283</td>\n",
       "      <td>world</td>\n",
       "    </tr>\n",
       "    <tr>\n",
       "      <th>4</th>\n",
       "      <td>0.001522</td>\n",
       "      <td>lockdownnow</td>\n",
       "    </tr>\n",
       "  </tbody>\n",
       "</table>\n",
       "</div>"
      ],
      "text/plain": [
       "       freq           term\n",
       "0  0.000761  unfortunately\n",
       "1  0.000761     closingthe\n",
       "2  0.000761           lets\n",
       "3  0.002283          world\n",
       "4  0.001522    lockdownnow"
      ]
     },
     "execution_count": 92,
     "metadata": {},
     "output_type": "execute_result"
    }
   ],
   "source": [
    "term_table = get_word_term_frequency_sample_probability(text)\n",
    "tt_df = pd.DataFrame([{'term': tf, 'freq': term_table[tf]} for tf in term_table])\n",
    "tt_df.head()"
   ]
  },
  {
   "cell_type": "code",
   "execution_count": 94,
   "metadata": {},
   "outputs": [
    {
     "name": "stdout",
     "output_type": "stream",
     "text": [
      "Average Mean Term Frequency / Sample Probability\n"
     ]
    },
    {
     "data": {
      "text/plain": [
       "0.001976284584980237"
      ]
     },
     "execution_count": 94,
     "metadata": {},
     "output_type": "execute_result"
    }
   ],
   "source": [
    "print(\"Average Mean Term Frequency / Sample Probability\")\n",
    "np.mean(tt_df.freq)"
   ]
  },
  {
   "cell_type": "markdown",
   "metadata": {},
   "source": [
    "### The Magic of 0.002 or 0.2% Means Pareto^4 = 20% x 20% x 20% x 20% = 0.2%\n",
    "\n",
    "### 12 Disciples / 5,000K Bread Loaves = 0.2%"
   ]
  },
  {
   "cell_type": "code",
   "execution_count": 86,
   "metadata": {},
   "outputs": [
    {
     "name": "stdout",
     "output_type": "stream",
     "text": [
      "CPU times: user 1min 52s, sys: 10.6 s, total: 2min 3s\n",
      "Wall time: 18min 51s\n"
     ]
    },
    {
     "data": {
      "text/plain": [
       "3307.6455684875295"
      ]
     },
     "execution_count": 86,
     "metadata": {},
     "output_type": "execute_result"
    }
   ],
   "source": [
    "%%time\n",
    "count_cost_of_youtube_video(video_id)"
   ]
  },
  {
   "cell_type": "markdown",
   "metadata": {},
   "source": [
    "### This 10 minute / 500+ Unique Word YouTube Video is worth ~$3300K"
   ]
  },
  {
   "cell_type": "code",
   "execution_count": 7,
   "metadata": {},
   "outputs": [
    {
     "data": {
      "text/html": [
       "<iframe width=\"560\" height=\"315\" src=\"https://www.youtube.com/embed/oRkvO6RWVtg\" frameborder=\"0\" allow=\"accelerometer; autoplay; encrypted-media; gyroscope; picture-in-picture\" allowfullscreen></iframe>"
      ],
      "text/plain": [
       "<IPython.core.display.HTML object>"
      ]
     },
     "metadata": {},
     "output_type": "display_data"
    }
   ],
   "source": [
    "from IPython.core.display import display, HTML\n",
    "display(HTML('<iframe width=\"560\" height=\"315\" src=\"https://www.youtube.com/embed/oRkvO6RWVtg\" frameborder=\"0\" allow=\"accelerometer; autoplay; encrypted-media; gyroscope; picture-in-picture\" allowfullscreen></iframe>'))"
   ]
  },
  {
   "cell_type": "code",
   "execution_count": 17,
   "metadata": {},
   "outputs": [
    {
     "name": "stdout",
     "output_type": "stream",
     "text": [
      "Average Mean Cost Per Term: \n",
      "$ 815.2173913043476\n",
      "N { Terms }: 506\n"
     ]
    }
   ],
   "source": [
    "N = len(tt_df)\n",
    "print(\"Average Mean Cost Per Term: \")\n",
    "print(\"$ \" + str(3300 / (N * (0.20** 3))))\n",
    "print(\"N { Terms }: \"+ str(N))"
   ]
  },
  {
   "cell_type": "markdown",
   "metadata": {},
   "source": [
    "# $E[w_{\\mu}] = \\Sigma_{w}  \\text{Probability}_{\\mu} \\times \\text{price}_{AVG}$  "
   ]
  },
  {
   "cell_type": "markdown",
   "metadata": {},
   "source": [
    "# $  = | W | \\cdot ( 0.02  \\times \\$800 )  \\simeq \\$3300 $"
   ]
  },
  {
   "cell_type": "code",
   "execution_count": 10,
   "metadata": {},
   "outputs": [
    {
     "data": {
      "text/plain": [
       "0.0024"
      ]
     },
     "execution_count": 10,
     "metadata": {},
     "output_type": "execute_result"
    }
   ],
   "source": [
    "12/5000"
   ]
  }
 ],
 "metadata": {
  "kernelspec": {
   "display_name": "Python 3",
   "language": "python",
   "name": "python3"
  },
  "language_info": {
   "codemirror_mode": {
    "name": "ipython",
    "version": 3
   },
   "file_extension": ".py",
   "mimetype": "text/x-python",
   "name": "python",
   "nbconvert_exporter": "python",
   "pygments_lexer": "ipython3",
   "version": "3.5.2"
  }
 },
 "nbformat": 4,
 "nbformat_minor": 2
}
